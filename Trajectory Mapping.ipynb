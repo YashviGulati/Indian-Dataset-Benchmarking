{
 "cells": [
  {
   "cell_type": "code",
   "execution_count": 3,
   "metadata": {},
   "outputs": [],
   "source": [
    "import cv2\n",
    "import pandas as pd\n",
    "import numpy as np\n",
    "import os\n",
    "from collections import Counter\n"
   ]
  },
  {
   "cell_type": "code",
   "execution_count": 4,
   "metadata": {},
   "outputs": [
    {
     "name": "stdout",
     "output_type": "stream",
     "text": [
      "[[0 'Pedestrian' 0 ..., 0 1 0]\n",
      " [0 'Pedestrian' 1 ..., 0 1 0]\n",
      " [0 'Pedestrian' 2 ..., 0 1 0]\n",
      " ..., \n",
      " [498 'Car' 44 ..., 0 1 1]\n",
      " [499 'Pedestrian' 49 ..., 0 1 0]\n",
      " [499 'Car' 44 ..., 0 1 0]]\n"
     ]
    },
    {
     "data": {
      "text/plain": [
       "array([0, 'Pedestrian', 0, 419, 284, 440, 224, 0, 1, 0], dtype=object)"
      ]
     },
     "execution_count": 4,
     "metadata": {},
     "output_type": "execute_result"
    }
   ],
   "source": [
    "ann = pd.read_csv('C:\\\\Users\\\\asd\\\\Desktop\\\\3.csv',header=None, skiprows=1)\n",
    "#print(ann)\n",
    "annot=np.asarray(ann)\n",
    "print(annot)\n",
    "annot[0]"
   ]
  },
  {
   "cell_type": "code",
   "execution_count": 5,
   "metadata": {},
   "outputs": [],
   "source": [
    "Tran=annot.T\n",
    "#print(Tran[0])\n",
    "frameNumber=Tran[0]\n",
    "Labels=Tran[1]\n",
    "ids=Tran[2]\n",
    "x_TL=Tran[3]\n",
    "y_TL=Tran[4]\n",
    "x_BR=Tran[5]\n",
    "y_BR=Tran[6]\n",
    "Occ=Tran[7]\n",
    "width=x_BR-x_TL\n",
    "height=y_BR-y_TL\n",
    "centre_x=(x_BR+x_TL)/2\n",
    "centre_y=(y_BR+y_TL)/2\n",
    "for i in range(len(centre_x)):\n",
    "    centre_x[i]=int(centre_x[i])\n",
    "for i in range(len(centre_y)):\n",
    "    centre_y[i]=int(centre_y[i])"
   ]
  },
  {
   "cell_type": "code",
   "execution_count": 6,
   "metadata": {},
   "outputs": [],
   "source": [
    "frameNames=os.listdir(\"C:\\\\Users\\\\asd\\\\Desktop\\\\3\")"
   ]
  },
  {
   "cell_type": "code",
   "execution_count": 6,
   "metadata": {},
   "outputs": [
    {
     "data": {
      "text/plain": [
       "2949"
      ]
     },
     "execution_count": 6,
     "metadata": {},
     "output_type": "execute_result"
    }
   ],
   "source": [
    "Tran.shape[1]"
   ]
  },
  {
   "cell_type": "code",
   "execution_count": 53,
   "metadata": {},
   "outputs": [
    {
     "ename": "KeyboardInterrupt",
     "evalue": "",
     "output_type": "error",
     "traceback": [
      "\u001b[1;31m---------------------------------------------------------------------------\u001b[0m",
      "\u001b[1;31mKeyboardInterrupt\u001b[0m                         Traceback (most recent call last)",
      "\u001b[1;32m<ipython-input-53-9079dacd827c>\u001b[0m in \u001b[0;36m<module>\u001b[1;34m()\u001b[0m\n\u001b[0;32m      6\u001b[0m     \u001b[1;32mif\u001b[0m\u001b[1;33m(\u001b[0m\u001b[0mframePrev\u001b[0m\u001b[1;33m!=\u001b[0m\u001b[0mframeNow\u001b[0m\u001b[1;33m)\u001b[0m\u001b[1;33m:\u001b[0m\u001b[1;33m\u001b[0m\u001b[0m\n\u001b[0;32m      7\u001b[0m         \u001b[0mcv2\u001b[0m\u001b[1;33m.\u001b[0m\u001b[0mimshow\u001b[0m\u001b[1;33m(\u001b[0m\u001b[1;34m'image'\u001b[0m\u001b[1;33m,\u001b[0m\u001b[0mimg\u001b[0m\u001b[1;33m)\u001b[0m\u001b[1;33m\u001b[0m\u001b[0m\n\u001b[1;32m----> 8\u001b[1;33m         \u001b[0mcv2\u001b[0m\u001b[1;33m.\u001b[0m\u001b[0mwaitKey\u001b[0m\u001b[1;33m(\u001b[0m\u001b[1;36m200\u001b[0m\u001b[1;33m)\u001b[0m\u001b[1;33m\u001b[0m\u001b[0m\n\u001b[0m\u001b[0;32m      9\u001b[0m         \u001b[0mcv2\u001b[0m\u001b[1;33m.\u001b[0m\u001b[0mdestroyAllWindows\u001b[0m\u001b[1;33m(\u001b[0m\u001b[1;33m)\u001b[0m\u001b[1;33m\u001b[0m\u001b[0m\n\u001b[0;32m     10\u001b[0m         \u001b[0mimg\u001b[0m\u001b[1;33m=\u001b[0m\u001b[0mcv2\u001b[0m\u001b[1;33m.\u001b[0m\u001b[0mimread\u001b[0m\u001b[1;33m(\u001b[0m\u001b[1;34m'C:\\\\Users\\\\asd\\\\Desktop\\\\3\\\\'\u001b[0m\u001b[1;33m+\u001b[0m\u001b[0mframeNames\u001b[0m\u001b[1;33m[\u001b[0m\u001b[0mframePrev\u001b[0m\u001b[1;33m]\u001b[0m\u001b[1;33m)\u001b[0m\u001b[1;33m\u001b[0m\u001b[0m\n",
      "\u001b[1;31mKeyboardInterrupt\u001b[0m: "
     ]
    }
   ],
   "source": [
    "#Drawing Bounding boxes-method 1\n",
    "framePrev=frameNumber[0]\n",
    "img=cv2.imread('C:\\\\Users\\\\asd\\\\Desktop\\\\3\\\\'+frameNames[framePrev])\n",
    "for i in range(Tran.shape[1]):\n",
    "    frameNow=frameNumber[i]\n",
    "    if(framePrev!=frameNow):\n",
    "        cv2.imshow('image',img)\n",
    "        cv2.waitKey(200)\n",
    "        cv2.destroyAllWindows()\n",
    "        img=cv2.imread('C:\\\\Users\\\\asd\\\\Desktop\\\\3\\\\'+frameNames[framePrev])        \n",
    "    x=x_TL[i]\n",
    "    y=y_TL[i]\n",
    "    w=width[i]\n",
    "    h=height[i]\n",
    "    cv2.rectangle(img, (x, y), (x+w, y+h), (0, 255, 0), 2)\n",
    "    framePrev=frameNow"
   ]
  },
  {
   "cell_type": "code",
   "execution_count": 15,
   "metadata": {},
   "outputs": [
    {
     "ename": "KeyboardInterrupt",
     "evalue": "",
     "output_type": "error",
     "traceback": [
      "\u001b[1;31m---------------------------------------------------------------------------\u001b[0m",
      "\u001b[1;31mKeyboardInterrupt\u001b[0m                         Traceback (most recent call last)",
      "\u001b[1;32m<ipython-input-15-adf8c116a9d3>\u001b[0m in \u001b[0;36m<module>\u001b[1;34m()\u001b[0m\n\u001b[0;32m     11\u001b[0m     \u001b[0mcounter\u001b[0m\u001b[1;33m=\u001b[0m\u001b[0mcounter\u001b[0m\u001b[1;33m+\u001b[0m\u001b[0mCounter\u001b[0m\u001b[1;33m(\u001b[0m\u001b[0mframeNumber\u001b[0m\u001b[1;33m)\u001b[0m\u001b[1;33m[\u001b[0m\u001b[0mj\u001b[0m\u001b[1;33m]\u001b[0m\u001b[1;33m\u001b[0m\u001b[0m\n\u001b[0;32m     12\u001b[0m     \u001b[0mcv2\u001b[0m\u001b[1;33m.\u001b[0m\u001b[0mimshow\u001b[0m\u001b[1;33m(\u001b[0m\u001b[1;34m'image'\u001b[0m\u001b[1;33m,\u001b[0m\u001b[0mimg\u001b[0m\u001b[1;33m)\u001b[0m\u001b[1;33m\u001b[0m\u001b[0m\n\u001b[1;32m---> 13\u001b[1;33m     \u001b[0mcv2\u001b[0m\u001b[1;33m.\u001b[0m\u001b[0mwaitKey\u001b[0m\u001b[1;33m(\u001b[0m\u001b[1;36m200\u001b[0m\u001b[1;33m)\u001b[0m\u001b[1;33m\u001b[0m\u001b[0m\n\u001b[0m\u001b[0;32m     14\u001b[0m     \u001b[0mcv2\u001b[0m\u001b[1;33m.\u001b[0m\u001b[0mdestroyAllWindows\u001b[0m\u001b[1;33m(\u001b[0m\u001b[1;33m)\u001b[0m\u001b[1;33m\u001b[0m\u001b[0m\n",
      "\u001b[1;31mKeyboardInterrupt\u001b[0m: "
     ]
    }
   ],
   "source": [
    "#Drawing Bounding Boxes method 2\n",
    "counter=Counter(frameNumber)[0]\n",
    "for j in range(max(frameNumber)):\n",
    "    img=cv2.imread('C:\\\\Users\\\\asd\\\\Desktop\\\\3\\\\'+frameNames[j])\n",
    "    for i in range(counter-Counter(frameNumber)[j],counter):\n",
    "        x=x_TL[i]\n",
    "        y=y_TL[i]\n",
    "        w=width[i]\n",
    "        h=height[i]\n",
    "        cv2.rectangle(img, (x, y), (x+w, y+h), (0, 255, 0), 2)\n",
    "    counter=counter+Counter(frameNumber)[j]\n",
    "    cv2.imshow('image',img)\n",
    "    cv2.waitKey(200)\n",
    "    cv2.destroyAllWindows()"
   ]
  },
  {
   "cell_type": "code",
   "execution_count": 68,
   "metadata": {},
   "outputs": [],
   "source": [
    "#Drawing one Centroid\n",
    "img=cv2.imread('C:\\\\Users\\\\asd\\\\Desktop\\\\3\\\\'+frameNames[j])\n",
    "cv2.circle(img,(centre_x[0],centre_y[0]), 5, (255,0,0), -1)\n",
    "cv2.imshow('image',img)\n",
    "cv2.waitKey(0)\n",
    "cv2.destroyAllWindows()"
   ]
  },
  {
   "cell_type": "code",
   "execution_count": 14,
   "metadata": {},
   "outputs": [
    {
     "ename": "KeyboardInterrupt",
     "evalue": "",
     "output_type": "error",
     "traceback": [
      "\u001b[1;31m---------------------------------------------------------------------------\u001b[0m",
      "\u001b[1;31mKeyboardInterrupt\u001b[0m                         Traceback (most recent call last)",
      "\u001b[1;32m<ipython-input-14-999275b11d63>\u001b[0m in \u001b[0;36m<module>\u001b[1;34m()\u001b[0m\n\u001b[0;32m      2\u001b[0m \u001b[0mcounter\u001b[0m\u001b[1;33m=\u001b[0m\u001b[0mCounter\u001b[0m\u001b[1;33m(\u001b[0m\u001b[0mframeNumber\u001b[0m\u001b[1;33m)\u001b[0m\u001b[1;33m[\u001b[0m\u001b[1;36m0\u001b[0m\u001b[1;33m]\u001b[0m\u001b[1;33m\u001b[0m\u001b[0m\n\u001b[0;32m      3\u001b[0m \u001b[1;32mfor\u001b[0m \u001b[0mj\u001b[0m \u001b[1;32min\u001b[0m \u001b[0mrange\u001b[0m\u001b[1;33m(\u001b[0m\u001b[0mmax\u001b[0m\u001b[1;33m(\u001b[0m\u001b[0mframeNumber\u001b[0m\u001b[1;33m)\u001b[0m\u001b[1;33m)\u001b[0m\u001b[1;33m:\u001b[0m\u001b[1;33m\u001b[0m\u001b[0m\n\u001b[1;32m----> 4\u001b[1;33m     \u001b[0mimg\u001b[0m\u001b[1;33m=\u001b[0m\u001b[0mcv2\u001b[0m\u001b[1;33m.\u001b[0m\u001b[0mimread\u001b[0m\u001b[1;33m(\u001b[0m\u001b[1;34m'C:\\\\Users\\\\asd\\\\Desktop\\\\3\\\\'\u001b[0m\u001b[1;33m+\u001b[0m\u001b[0mframeNames\u001b[0m\u001b[1;33m[\u001b[0m\u001b[0mj\u001b[0m\u001b[1;33m]\u001b[0m\u001b[1;33m)\u001b[0m\u001b[1;33m\u001b[0m\u001b[0m\n\u001b[0m\u001b[0;32m      5\u001b[0m     \u001b[1;32mfor\u001b[0m \u001b[0mi\u001b[0m \u001b[1;32min\u001b[0m \u001b[0mrange\u001b[0m\u001b[1;33m(\u001b[0m\u001b[0mcounter\u001b[0m\u001b[1;33m-\u001b[0m\u001b[0mCounter\u001b[0m\u001b[1;33m(\u001b[0m\u001b[0mframeNumber\u001b[0m\u001b[1;33m)\u001b[0m\u001b[1;33m[\u001b[0m\u001b[0mj\u001b[0m\u001b[1;33m]\u001b[0m\u001b[1;33m,\u001b[0m\u001b[0mcounter\u001b[0m\u001b[1;33m)\u001b[0m\u001b[1;33m:\u001b[0m\u001b[1;33m\u001b[0m\u001b[0m\n\u001b[0;32m      6\u001b[0m \u001b[1;31m#         x=x_TL[i]\u001b[0m\u001b[1;33m\u001b[0m\u001b[1;33m\u001b[0m\u001b[0m\n",
      "\u001b[1;31mKeyboardInterrupt\u001b[0m: "
     ]
    }
   ],
   "source": [
    "#Drawing multiple centroids\n",
    "counter=Counter(frameNumber)[0]\n",
    "for j in range(max(frameNumber)):\n",
    "    img=cv2.imread('C:\\\\Users\\\\asd\\\\Desktop\\\\3\\\\'+frameNames[j])\n",
    "    for i in range(counter-Counter(frameNumber)[j],counter):\n",
    "#         x=x_TL[i]\n",
    "#         y=y_TL[i]\n",
    "#         w=width[i]\n",
    "#         h=height[i]\n",
    "#         cv2.rectangle(img, (x, y), (x+w, y+h), (0, 255, 0), 2)\n",
    "        cv2.circle(img,(centre_x[i],centre_y[i]), 5, (255,0,0), -1)\n",
    "    counter=counter+Counter(frameNumber)[j]\n",
    "    cv2.imshow('image',img)\n",
    "    cv2.waitKey(200)\n",
    "    cv2.destroyAllWindows()"
   ]
  },
  {
   "cell_type": "code",
   "execution_count": 14,
   "metadata": {},
   "outputs": [],
   "source": [
    "#DRAW RECTANGLE BOUNDING BOXES ON VIDEO\n",
    "counter=Counter(frameNumber)[0]\n",
    "cap = cv2.VideoCapture('C:\\\\Users\\\\asd\\\\Desktop\\\\3.mp4')\n",
    "loop=0\n",
    "while True:\n",
    "    ret, img = cap.read()\n",
    "    for i in range(counter-Counter(frameNumber)[loop],counter):\n",
    "        x=x_TL[i]\n",
    "        y=y_TL[i]\n",
    "        w=width[i]\n",
    "        h=height[i]\n",
    "        if(Occ[i]==0):\n",
    "            cv2.rectangle(img, (x, y), (x+w, y+h), (0, 255, 0), 2)\n",
    "        elif(Occ[i]==1):\n",
    "            cv2.rectangle(img, (x, y), (x+w, y+h), (0, 0, 255), 2)\n",
    "    cv2.imshow('Image', img)\n",
    "    loop=loop+1\n",
    "    counter=counter+Counter(frameNumber)[loop]\n",
    "    k = cv2.waitKey(60) & 0xFF\n",
    "    if k == 27:\n",
    "        cv2.destroyAllWindows()\n",
    "        break"
   ]
  },
  {
   "cell_type": "code",
   "execution_count": 5,
   "metadata": {},
   "outputs": [],
   "source": [
    "#Show video loop\n",
    "cap = cv2.VideoCapture('C:\\\\Users\\\\asd\\\\Desktop\\\\3.mp4')\n",
    "while True:\n",
    "    ret, img = cap.read()\n",
    "    cv2.imshow('Image', img)\n",
    "    k = cv2.waitKey(120) & 0xFF\n",
    "    if k == 27:\n",
    "        break"
   ]
  },
  {
   "cell_type": "code",
   "execution_count": 16,
   "metadata": {},
   "outputs": [],
   "source": [
    "#DRAW centroid dots ON VIDEO\n",
    "counter=Counter(frameNumber)[0]\n",
    "cap = cv2.VideoCapture('C:\\\\Users\\\\asd\\\\Desktop\\\\3.mp4')\n",
    "loop=0\n",
    "while True:\n",
    "    ret, img = cap.read()\n",
    "    for i in range(counter-Counter(frameNumber)[loop],counter):\n",
    "        if(Occ[i]==0):\n",
    "            cv2.circle(img,(centre_x[i],centre_y[i]), 7, (255,0,0), -1)\n",
    "        if(Occ[i]==1):\n",
    "            cv2.circle(img,(centre_x[i],centre_y[i]), 7, (255,0,255), -1)\n",
    "    cv2.imshow('Image', img)\n",
    "    loop=loop+1\n",
    "    counter=counter+Counter(frameNumber)[loop]\n",
    "    k = cv2.waitKey(60) & 0xFF\n",
    "    if k == 27:\n",
    "        cv2.destroyAllWindows()\n",
    "        break"
   ]
  },
  {
   "cell_type": "code",
   "execution_count": null,
   "metadata": {},
   "outputs": [],
   "source": [
    "#paths\n",
    "for i in range(max(ids)):\n",
    "    for(i )\n",
    "    if(ids[j])"
   ]
  },
  {
   "cell_type": "code",
   "execution_count": 17,
   "metadata": {},
   "outputs": [
    {
     "data": {
      "text/plain": [
       "49"
      ]
     },
     "execution_count": 17,
     "metadata": {},
     "output_type": "execute_result"
    }
   ],
   "source": [
    "max(ids)"
   ]
  },
  {
   "cell_type": "code",
   "execution_count": null,
   "metadata": {},
   "outputs": [],
   "source": []
  },
  {
   "cell_type": "code",
   "execution_count": null,
   "metadata": {},
   "outputs": [],
   "source": []
  },
  {
   "cell_type": "code",
   "execution_count": null,
   "metadata": {},
   "outputs": [],
   "source": []
  },
  {
   "cell_type": "code",
   "execution_count": null,
   "metadata": {},
   "outputs": [],
   "source": []
  },
  {
   "cell_type": "code",
   "execution_count": null,
   "metadata": {},
   "outputs": [],
   "source": []
  },
  {
   "cell_type": "code",
   "execution_count": null,
   "metadata": {},
   "outputs": [],
   "source": []
  },
  {
   "cell_type": "code",
   "execution_count": null,
   "metadata": {},
   "outputs": [],
   "source": []
  },
  {
   "cell_type": "code",
   "execution_count": null,
   "metadata": {},
   "outputs": [],
   "source": []
  }
 ],
 "metadata": {
  "kernelspec": {
   "display_name": "Python 3",
   "language": "python",
   "name": "python3"
  },
  "language_info": {
   "codemirror_mode": {
    "name": "ipython",
    "version": 3
   },
   "file_extension": ".py",
   "mimetype": "text/x-python",
   "name": "python",
   "nbconvert_exporter": "python",
   "pygments_lexer": "ipython3",
   "version": "3.6.4"
  }
 },
 "nbformat": 4,
 "nbformat_minor": 2
}
