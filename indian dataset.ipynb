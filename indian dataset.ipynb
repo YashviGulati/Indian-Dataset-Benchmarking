{
 "cells": [
  {
   "cell_type": "code",
   "execution_count": 15,
   "metadata": {},
   "outputs": [],
   "source": [
    "import pandas as pd\n",
    "import numpy\n",
    "import matplotlib\n",
    "import os\n",
    "import subprocess"
   ]
  },
  {
   "cell_type": "code",
   "execution_count": 5,
   "metadata": {},
   "outputs": [],
   "source": [
    "path='C:/Users/asd/Desktop/500Frames'"
   ]
  },
  {
   "cell_type": "code",
   "execution_count": 38,
   "metadata": {},
   "outputs": [],
   "source": []
  },
  {
   "cell_type": "code",
   "execution_count": 59,
   "metadata": {},
   "outputs": [
    {
     "name": "stdout",
     "output_type": "stream",
     "text": [
      "file not found\n",
      "file not found\n",
      "file not found\n",
      "file not found\n",
      "file not found\n",
      "file not found\n",
      "file not found\n",
      "file not found\n",
      "file not found\n",
      "file not found\n",
      "file not found\n",
      "file not found\n",
      "file not found\n",
      "file not found\n",
      "file not found\n",
      "file not found\n"
     ]
    }
   ],
   "source": [
    "totalFrames=0\n",
    "totalID=0\n",
    "videoNo=0\n",
    "for i in range(1,17):\n",
    "    inpath=path+\"/\"+str(i)\n",
    "    for j in range(1,8):\n",
    "        try:\n",
    "            fullPath=inpath+\"/\"+str(j)+\"/00\"+str(j)+\".csv\"\n",
    "            #print(fullPath)\n",
    "            readFile=pd.read_csv(fullPath)\n",
    "            totalFrames=totalFrames + max(readFile.frameNumber)\n",
    "            ids=readFile.id\n",
    "            idSet=set(ids)\n",
    "            totalID=totalID+len(idSet)\n",
    "            videoNo=videoNo+1\n",
    "        except:\n",
    "            videoNo=videoNo-1\n",
    "            print(\"file not found\")"
   ]
  },
  {
   "cell_type": "code",
   "execution_count": 60,
   "metadata": {},
   "outputs": [
    {
     "name": "stdout",
     "output_type": "stream",
     "text": [
      "47809\n",
      "2257\n",
      "80\n"
     ]
    }
   ],
   "source": [
    "print(totalFrames)\n",
    "print(totalID)\n",
    "print(videoNo)"
   ]
  },
  {
   "cell_type": "code",
   "execution_count": 63,
   "metadata": {},
   "outputs": [
    {
     "name": "stdout",
     "output_type": "stream",
     "text": [
      "      frameNumber          label  id  x_TL  y_TL  x_BR  y_BR  isOccluded  \\\n",
      "0               0            Bus   0     1   300   290     1           1   \n",
      "1               0    Two-Wheeler   1   509   173   526   141           0   \n",
      "2               0  Auto-Rickshaw   2   559   180   596   139           0   \n",
      "3               0    Two-Wheeler   3   622   166   633   141           0   \n",
      "4               0            Car   4   647   166   670   145           0   \n",
      "5               1  Auto-Rickshaw   2   558   179   595   138           0   \n",
      "6               1            Car   4   647   165   670   144           0   \n",
      "7               1    Two-Wheeler   1   506   172   523   141           0   \n",
      "8               1            Bus   0     1   300   293     1           1   \n",
      "9               1    Two-Wheeler   3   621   165   632   140           0   \n",
      "10              2  Auto-Rickshaw   2   558   179   595   138           0   \n",
      "11              2            Car   4   647   165   670   144           0   \n",
      "12              2    Two-Wheeler   1   504   172   521   141           0   \n",
      "13              2            Bus   0     1   300   296     1           1   \n",
      "14              2    Two-Wheeler   3   621   165   632   140           0   \n",
      "15              3  Auto-Rickshaw   2   558   178   594   138           0   \n",
      "16              3            Car   4   647   165   670   144           0   \n",
      "17              3    Two-Wheeler   1   502   172   518   141           0   \n",
      "18              3            Bus   0     1   300   299     1           1   \n",
      "19              3    Two-Wheeler   3   621   165   632   140           0   \n",
      "20              4  Auto-Rickshaw   2   557   178   594   137           0   \n",
      "21              4            Car   4   647   164   670   143           0   \n",
      "22              4    Two-Wheeler   1   499   172   516   141           0   \n",
      "23              4            Bus   0     1   300   302     1           1   \n",
      "24              4    Two-Wheeler   3   621   164   631   140           0   \n",
      "25              5  Auto-Rickshaw   2   557   178   593   137           0   \n",
      "26              5            Car   4   647   164   670   143           0   \n",
      "27              5    Two-Wheeler   1   497   172   513   141           0   \n",
      "28              5            Bus   0     1   300   305     1           1   \n",
      "29              5    Two-Wheeler   3   621   164   631   140           0   \n",
      "...           ...            ...  ..   ...   ...   ...   ...         ...   \n",
      "2816          495     Pedestrian  13   409   180   427   142           0   \n",
      "2817          495    Two-Wheeler   8   489   203   524   140           0   \n",
      "2818          495    Two-Wheeler  15   615   164   623   149           0   \n",
      "2819          495    Two-Wheeler   3   663   160   672   147           0   \n",
      "2820          495    Two-Wheeler   7   700   171   714   144           0   \n",
      "2821          495            Car   4   689   160   703   146           0   \n",
      "2822          496    Two-Wheeler   8   488   203   523   139           0   \n",
      "2823          496     Pedestrian  13   402   179   421   140           0   \n",
      "2824          496    Two-Wheeler  15   614   163   622   147           0   \n",
      "2825          496    Two-Wheeler   7   700   170   714   143           0   \n",
      "2826          496            Car   4   689   160   703   146           0   \n",
      "2827          496    Two-Wheeler   3   663   159   671   147           0   \n",
      "2828          497    Two-Wheeler   8   488   203   522   138           0   \n",
      "2829          497     Pedestrian  13   396   179   415   139           0   \n",
      "2830          497    Two-Wheeler  15   614   163   622   146           0   \n",
      "2831          497    Two-Wheeler   7   700   170   714   143           0   \n",
      "2832          497            Car   4   689   160   703   146           0   \n",
      "2833          497    Two-Wheeler   3   664   159   671   147           0   \n",
      "2834          498    Two-Wheeler   8   487   203   521   137           0   \n",
      "2835          498     Pedestrian  13   390   178   409   138           0   \n",
      "2836          498    Two-Wheeler  15   613   163   621   145           0   \n",
      "2837          498    Two-Wheeler   7   700   170   714   143           0   \n",
      "2838          498            Car   4   689   160   703   146           0   \n",
      "2839          498    Two-Wheeler   3   665   159   671   147           0   \n",
      "2840          499     Pedestrian  13   384   178   403   137           0   \n",
      "2841          499    Two-Wheeler   8   487   203   521   137           0   \n",
      "2842          499    Two-Wheeler  15   613   163   621   144           0   \n",
      "2843          499    Two-Wheeler   3   666   159   671   148           0   \n",
      "2844          499    Two-Wheeler   7   701   170   715   143           0   \n",
      "2845          499            Car   4   690   160   703   146           0   \n",
      "\n",
      "      toInterpolate  isInterpolated  \n",
      "0                 1               0  \n",
      "1                 1               0  \n",
      "2                 1               0  \n",
      "3                 1               0  \n",
      "4                 1               0  \n",
      "5                 1               1  \n",
      "6                 1               1  \n",
      "7                 1               1  \n",
      "8                 1               1  \n",
      "9                 1               1  \n",
      "10                1               1  \n",
      "11                1               1  \n",
      "12                1               1  \n",
      "13                1               1  \n",
      "14                1               1  \n",
      "15                1               1  \n",
      "16                1               1  \n",
      "17                1               1  \n",
      "18                1               1  \n",
      "19                1               1  \n",
      "20                1               1  \n",
      "21                1               1  \n",
      "22                1               1  \n",
      "23                1               1  \n",
      "24                1               1  \n",
      "25                1               1  \n",
      "26                1               1  \n",
      "27                1               1  \n",
      "28                1               1  \n",
      "29                1               1  \n",
      "...             ...             ...  \n",
      "2816              1               0  \n",
      "2817              1               0  \n",
      "2818              1               0  \n",
      "2819              1               0  \n",
      "2820              1               0  \n",
      "2821              1               0  \n",
      "2822              1               1  \n",
      "2823              1               1  \n",
      "2824              1               1  \n",
      "2825              1               1  \n",
      "2826              1               1  \n",
      "2827              1               1  \n",
      "2828              1               1  \n",
      "2829              1               1  \n",
      "2830              1               1  \n",
      "2831              1               1  \n",
      "2832              1               1  \n",
      "2833              1               1  \n",
      "2834              1               1  \n",
      "2835              1               1  \n",
      "2836              1               1  \n",
      "2837              1               1  \n",
      "2838              1               1  \n",
      "2839              1               1  \n",
      "2840              1               0  \n",
      "2841              1               0  \n",
      "2842              1               0  \n",
      "2843              1               0  \n",
      "2844              1               0  \n",
      "2845              1               0  \n",
      "\n",
      "[2846 rows x 10 columns]\n"
     ]
    }
   ],
   "source": [
    "print(readFile)"
   ]
  },
  {
   "cell_type": "code",
   "execution_count": 62,
   "metadata": {},
   "outputs": [],
   "source": [
    "labels=readFile.label\n",
    "ids=readFile.id\n",
    "for i in range()"
   ]
  },
  {
   "cell_type": "code",
   "execution_count": 54,
   "metadata": {},
   "outputs": [
    {
     "name": "stdout",
     "output_type": "stream",
     "text": [
      "{0, 1, 2, 3, 4, 5, 6, 7, 8, 11, 13, 15}\n",
      "12\n"
     ]
    }
   ],
   "source": [
    "ids=readFile.id\n",
    "idSet=set(ids)\n",
    "print(idSet)\n",
    "print(len(idSet))"
   ]
  }
 ],
 "metadata": {
  "kernelspec": {
   "display_name": "Python 3",
   "language": "python",
   "name": "python3"
  },
  "language_info": {
   "codemirror_mode": {
    "name": "ipython",
    "version": 3
   },
   "file_extension": ".py",
   "mimetype": "text/x-python",
   "name": "python",
   "nbconvert_exporter": "python",
   "pygments_lexer": "ipython3",
   "version": "3.6.4"
  }
 },
 "nbformat": 4,
 "nbformat_minor": 2
}
