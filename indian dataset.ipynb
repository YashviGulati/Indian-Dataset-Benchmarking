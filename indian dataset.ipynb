{
 "cells": [
  {
   "cell_type": "code",
   "execution_count": 84,
   "metadata": {},
   "outputs": [],
   "source": [
    "import pandas as pd\n",
    "import numpy\n",
    "import matplotlib\n",
    "import os\n",
    "import subprocess"
   ]
  },
  {
   "cell_type": "code",
   "execution_count": 85,
   "metadata": {},
   "outputs": [],
   "source": [
    "path='C:/Users/asd/Desktop/500Frames'"
   ]
  },
  {
   "cell_type": "code",
   "execution_count": 86,
   "metadata": {},
   "outputs": [
    {
     "name": "stdout",
     "output_type": "stream",
     "text": [
      "file not found\n",
      "file not found\n",
      "file not found\n",
      "file not found\n",
      "file not found\n",
      "file not found\n",
      "file not found\n",
      "file not found\n",
      "file not found\n",
      "file not found\n",
      "file not found\n",
      "file not found\n",
      "file not found\n",
      "file not found\n",
      "file not found\n",
      "file not found\n"
     ]
    }
   ],
   "source": [
    "totalFrames=0\n",
    "totalID=0\n",
    "videoNo=0\n",
    "for i in range(1,17):\n",
    "    inpath=path+\"/\"+str(i)\n",
    "    for j in range(1,8):\n",
    "        try:\n",
    "            fullPath=inpath+\"/\"+str(j)+\"/00\"+str(j)+\".csv\"\n",
    "            #print(fullPath)\n",
    "            readFile=pd.read_csv(fullPath)\n",
    "            totalFrames=totalFrames + max(readFile.frameNumber)\n",
    "            ids=readFile.id\n",
    "            idSet=set(ids)\n",
    "            totalID=totalID+len(idSet)\n",
    "            videoNo=videoNo+1\n",
    "        except:\n",
    "            videoNo=videoNo-1\n",
    "            print(\"file not found\")"
   ]
  },
  {
   "cell_type": "code",
   "execution_count": 87,
   "metadata": {},
   "outputs": [
    {
     "name": "stdout",
     "output_type": "stream",
     "text": [
      "47809\n",
      "2257\n",
      "80\n"
     ]
    }
   ],
   "source": [
    "print(totalFrames)\n",
    "print(totalID)\n",
    "print(videoNo)"
   ]
  },
  {
   "cell_type": "code",
   "execution_count": 88,
   "metadata": {},
   "outputs": [
    {
     "name": "stdout",
     "output_type": "stream",
     "text": [
      "      frameNumber          label  id  x_TL  y_TL  x_BR  y_BR  isOccluded  \\\n",
      "0               0            Bus   0     1   300   290     1           1   \n",
      "1               0    Two-Wheeler   1   509   173   526   141           0   \n",
      "2               0  Auto-Rickshaw   2   559   180   596   139           0   \n",
      "3               0    Two-Wheeler   3   622   166   633   141           0   \n",
      "4               0            Car   4   647   166   670   145           0   \n",
      "5               1  Auto-Rickshaw   2   558   179   595   138           0   \n",
      "6               1            Car   4   647   165   670   144           0   \n",
      "7               1    Two-Wheeler   1   506   172   523   141           0   \n",
      "8               1            Bus   0     1   300   293     1           1   \n",
      "9               1    Two-Wheeler   3   621   165   632   140           0   \n",
      "10              2  Auto-Rickshaw   2   558   179   595   138           0   \n",
      "11              2            Car   4   647   165   670   144           0   \n",
      "12              2    Two-Wheeler   1   504   172   521   141           0   \n",
      "13              2            Bus   0     1   300   296     1           1   \n",
      "14              2    Two-Wheeler   3   621   165   632   140           0   \n",
      "15              3  Auto-Rickshaw   2   558   178   594   138           0   \n",
      "16              3            Car   4   647   165   670   144           0   \n",
      "17              3    Two-Wheeler   1   502   172   518   141           0   \n",
      "18              3            Bus   0     1   300   299     1           1   \n",
      "19              3    Two-Wheeler   3   621   165   632   140           0   \n",
      "20              4  Auto-Rickshaw   2   557   178   594   137           0   \n",
      "21              4            Car   4   647   164   670   143           0   \n",
      "22              4    Two-Wheeler   1   499   172   516   141           0   \n",
      "23              4            Bus   0     1   300   302     1           1   \n",
      "24              4    Two-Wheeler   3   621   164   631   140           0   \n",
      "25              5  Auto-Rickshaw   2   557   178   593   137           0   \n",
      "26              5            Car   4   647   164   670   143           0   \n",
      "27              5    Two-Wheeler   1   497   172   513   141           0   \n",
      "28              5            Bus   0     1   300   305     1           1   \n",
      "29              5    Two-Wheeler   3   621   164   631   140           0   \n",
      "...           ...            ...  ..   ...   ...   ...   ...         ...   \n",
      "2816          495     Pedestrian  13   409   180   427   142           0   \n",
      "2817          495    Two-Wheeler   8   489   203   524   140           0   \n",
      "2818          495    Two-Wheeler  15   615   164   623   149           0   \n",
      "2819          495    Two-Wheeler   3   663   160   672   147           0   \n",
      "2820          495    Two-Wheeler   7   700   171   714   144           0   \n",
      "2821          495            Car   4   689   160   703   146           0   \n",
      "2822          496    Two-Wheeler   8   488   203   523   139           0   \n",
      "2823          496     Pedestrian  13   402   179   421   140           0   \n",
      "2824          496    Two-Wheeler  15   614   163   622   147           0   \n",
      "2825          496    Two-Wheeler   7   700   170   714   143           0   \n",
      "2826          496            Car   4   689   160   703   146           0   \n",
      "2827          496    Two-Wheeler   3   663   159   671   147           0   \n",
      "2828          497    Two-Wheeler   8   488   203   522   138           0   \n",
      "2829          497     Pedestrian  13   396   179   415   139           0   \n",
      "2830          497    Two-Wheeler  15   614   163   622   146           0   \n",
      "2831          497    Two-Wheeler   7   700   170   714   143           0   \n",
      "2832          497            Car   4   689   160   703   146           0   \n",
      "2833          497    Two-Wheeler   3   664   159   671   147           0   \n",
      "2834          498    Two-Wheeler   8   487   203   521   137           0   \n",
      "2835          498     Pedestrian  13   390   178   409   138           0   \n",
      "2836          498    Two-Wheeler  15   613   163   621   145           0   \n",
      "2837          498    Two-Wheeler   7   700   170   714   143           0   \n",
      "2838          498            Car   4   689   160   703   146           0   \n",
      "2839          498    Two-Wheeler   3   665   159   671   147           0   \n",
      "2840          499     Pedestrian  13   384   178   403   137           0   \n",
      "2841          499    Two-Wheeler   8   487   203   521   137           0   \n",
      "2842          499    Two-Wheeler  15   613   163   621   144           0   \n",
      "2843          499    Two-Wheeler   3   666   159   671   148           0   \n",
      "2844          499    Two-Wheeler   7   701   170   715   143           0   \n",
      "2845          499            Car   4   690   160   703   146           0   \n",
      "\n",
      "      toInterpolate  isInterpolated  \n",
      "0                 1               0  \n",
      "1                 1               0  \n",
      "2                 1               0  \n",
      "3                 1               0  \n",
      "4                 1               0  \n",
      "5                 1               1  \n",
      "6                 1               1  \n",
      "7                 1               1  \n",
      "8                 1               1  \n",
      "9                 1               1  \n",
      "10                1               1  \n",
      "11                1               1  \n",
      "12                1               1  \n",
      "13                1               1  \n",
      "14                1               1  \n",
      "15                1               1  \n",
      "16                1               1  \n",
      "17                1               1  \n",
      "18                1               1  \n",
      "19                1               1  \n",
      "20                1               1  \n",
      "21                1               1  \n",
      "22                1               1  \n",
      "23                1               1  \n",
      "24                1               1  \n",
      "25                1               1  \n",
      "26                1               1  \n",
      "27                1               1  \n",
      "28                1               1  \n",
      "29                1               1  \n",
      "...             ...             ...  \n",
      "2816              1               0  \n",
      "2817              1               0  \n",
      "2818              1               0  \n",
      "2819              1               0  \n",
      "2820              1               0  \n",
      "2821              1               0  \n",
      "2822              1               1  \n",
      "2823              1               1  \n",
      "2824              1               1  \n",
      "2825              1               1  \n",
      "2826              1               1  \n",
      "2827              1               1  \n",
      "2828              1               1  \n",
      "2829              1               1  \n",
      "2830              1               1  \n",
      "2831              1               1  \n",
      "2832              1               1  \n",
      "2833              1               1  \n",
      "2834              1               1  \n",
      "2835              1               1  \n",
      "2836              1               1  \n",
      "2837              1               1  \n",
      "2838              1               1  \n",
      "2839              1               1  \n",
      "2840              1               0  \n",
      "2841              1               0  \n",
      "2842              1               0  \n",
      "2843              1               0  \n",
      "2844              1               0  \n",
      "2845              1               0  \n",
      "\n",
      "[2846 rows x 10 columns]\n"
     ]
    }
   ],
   "source": [
    "print(readFile)"
   ]
  },
  {
   "cell_type": "code",
   "execution_count": 89,
   "metadata": {},
   "outputs": [],
   "source": [
    "labels=readFile.label\n",
    "ids=readFile.id\n",
    "lines=len(readFile)\n",
    "idList=[]\n",
    "labelList=[]\n",
    "for i in range(lines):\n",
    "    if ids[i] in idList:\n",
    "        continue\n",
    "    else:\n",
    "        idList.append(ids[i])\n",
    "        labelList.append(labels[i])"
   ]
  },
  {
   "cell_type": "code",
   "execution_count": 90,
   "metadata": {},
   "outputs": [
    {
     "name": "stdout",
     "output_type": "stream",
     "text": [
      "[0, 1, 2, 3, 4, 5, 6, 7, 8, 11, 13, 15]\n",
      "['Bus', 'Two-Wheeler', 'Auto-Rickshaw', 'Two-Wheeler', 'Car', 'Car', 'Car', 'Two-Wheeler', 'Two-Wheeler', 'Auto-Rickshaw', 'Pedestrian', 'Two-Wheeler']\n"
     ]
    }
   ],
   "source": [
    "print(idList)\n",
    "print(labelList)"
   ]
  },
  {
   "cell_type": "markdown",
   "metadata": {},
   "source": [
    "### Total Number of bounding boxes for each class and total along with occlusion information"
   ]
  },
  {
   "cell_type": "code",
   "execution_count": 110,
   "metadata": {},
   "outputs": [
    {
     "name": "stdout",
     "output_type": "stream",
     "text": [
      "file not found 1 1\n",
      "file not found 3 7\n",
      "file not found 4 4\n",
      "file not found 4 5\n",
      "file not found 4 6\n",
      "file not found 14 5\n",
      "file not found 14 6\n",
      "file not found 14 7\n",
      "file not found 15 3\n",
      "file not found 15 4\n",
      "file not found 15 5\n",
      "file not found 15 6\n",
      "file not found 15 7\n",
      "file not found 16 5\n",
      "file not found 16 6\n",
      "file not found 16 7\n"
     ]
    }
   ],
   "source": [
    "totalbbox=0\n",
    "totalPeds=0\n",
    "totalBus=0\n",
    "totalTwo=0\n",
    "totalCar=0\n",
    "totalTruck=0\n",
    "totalAuto=0\n",
    "irrcount=0\n",
    "allClasses=[]\n",
    "ijkPedCross=[]\n",
    "ijkPark=[]\n",
    "ijkStop=[]\n",
    "ijkRight=[]\n",
    "ijkU=[]\n",
    "for i in range(1,17):\n",
    "    inpath=path+\"/\"+str(i)\n",
    "    for j in range(1,8):\n",
    "        try:\n",
    "            fullPath=inpath+\"/\"+str(j)+\"/00\"+str(j)+\".csv\"\n",
    "            readFile=pd.read_csv(fullPath)\n",
    "            totalbbox=totalbbox+len(readFile)\n",
    "            \n",
    "            \n",
    "            \n",
    "            \n",
    "            \n",
    "            \n",
    "            \n",
    "            \n",
    "            \n",
    "            \n",
    "            \n",
    "            \n",
    "            \n",
    "            \n",
    "            \n",
    "            \n",
    "            for k in range(len(readFile)):\n",
    "                if(not(readFile.label[k] in allClasses)):\n",
    "                    allClasses.append(readFile.label[k])\n",
    "                if(readFile.label[k]=='Pedestrian Crossing'):\n",
    "                    irrcount=irrcount+1\n",
    "                    ijkPedCross.append(str(i)+\"-\"+str(j)+\"-\"+str(k))\n",
    "                if(readFile.label[k]=='No Parking'):\n",
    "                    irrcount=irrcount+1\n",
    "                    ijkPark.append(str(i)+\"-\"+str(j)+\"-\"+str(k))\n",
    "                if(readFile.label[k]=='No Stopping'):\n",
    "                    irrcount=irrcount+1\n",
    "                    ijkStop.append(str(i)+\"-\"+str(j)+\"-\"+str(k))\n",
    "                if(readFile.label[k]=='Right Turn'):\n",
    "                    irrcount=irrcount+1\n",
    "                    ijkRight.append(str(i)+\"-\"+str(j)+\"-\"+str(k))\n",
    "                if(readFile.label[k]=='U-Turn'):\n",
    "                    irrcount=irrcount+1\n",
    "                    ijkU.append(str(i)+\"-\"+str(j)+\"-\"+str(k))\n",
    "        except:\n",
    "             print(\"file not found\",i,j)\n"
   ]
  },
  {
   "cell_type": "code",
   "execution_count": 112,
   "metadata": {},
   "outputs": [
    {
     "name": "stdout",
     "output_type": "stream",
     "text": [
      "221350\n",
      "['Car', 'Two-Wheeler', 'Pedestrian', 'Auto-Rickshaw', 'Truck', 'Cyclist', 'Bus', 'Animal', 'Pedestrian Crossing', 'No Parking', 'No Stopping', 'Right Turn', 'U-Turn']\n",
      "245\n",
      "['5-7-2193', '5-7-2196', '5-7-2200', '5-7-2204', '5-7-2208', '5-7-2211', '5-7-2215', '5-7-2219', '5-7-2223', '5-7-2227', '5-7-2231', '5-7-2235', '5-7-2239', '5-7-2243', '5-7-2247', '5-7-2251', '5-7-2255', '5-7-2259', '5-7-2263', '5-7-2267', '5-7-2271', '5-7-2275', '5-7-2279', '5-7-2283', '5-7-2287', '5-7-2292', '5-7-2296', '5-7-2300', '5-7-2303', '5-7-2307', '5-7-2311', '5-7-2315', '5-7-2321', '5-7-2326', '5-7-2330', '5-7-2336', '5-7-2340', '5-7-2345', '5-7-2350', '5-7-2355', '5-7-2361', '5-7-2365', '5-7-2371', '5-7-2376', '5-7-2380', '5-7-2387', '5-7-2392', '5-7-2395', '5-7-2402', '5-7-2405', '8-7-2073', '8-7-2078', '8-7-2083', '8-7-2088', '8-7-2093', '8-7-2099', '8-7-2105', '8-7-2110', '8-7-2115', '8-7-2118', '8-7-2125']\n",
      "['6-7-449', '6-7-454', '6-7-459', '6-7-464', '6-7-469', '6-7-474', '6-7-479', '6-7-484', '6-7-489', '6-7-494', '6-7-499', '6-7-504', '6-7-509', '6-7-514', '6-7-519', '6-7-524', '6-7-529', '6-7-534', '6-7-539', '6-7-544', '6-7-549', '6-7-554', '6-7-559', '6-7-564']\n",
      "['8-7-793', '8-7-797', '8-7-799', '8-7-805', '8-7-806', '8-7-813', '8-7-817', '8-7-821', '8-7-825', '8-7-829', '8-7-832', '8-7-836', '8-7-840', '8-7-842', '8-7-846', '8-7-850', '8-7-854', '8-7-858', '8-7-862', '8-7-867', '8-7-873', '8-7-874', '8-7-878', '8-7-882', '8-7-888', '8-7-893', '8-7-894', '8-7-901', '8-7-902']\n",
      "['9-7-46', '9-7-52', '9-7-54', '9-7-59', '9-7-64', '9-7-69', '9-7-74', '9-7-79', '9-7-84', '9-7-89', '9-7-94', '9-7-99', '9-7-104', '9-7-109', '9-7-114', '9-7-119', '9-7-125', '9-7-132', '9-7-137', '9-7-143', '9-7-149', '9-7-155', '9-7-165', '9-7-167', '9-7-173', '9-7-179', '9-7-584', '9-7-594', '9-7-601', '9-7-602', '9-7-610', '9-7-615', '9-7-620', '9-7-622', '9-7-629', '9-7-634', '9-7-637', '9-7-642', '9-7-648', '9-7-654', '9-7-660']\n",
      "['9-7-931', '9-7-934', '9-7-940', '9-7-946', '9-7-952', '9-7-958', '9-7-963', '9-7-968', '9-7-973', '9-7-978', '9-7-983', '9-7-988', '9-7-993', '9-7-998', '9-7-1003', '9-7-1008', '9-7-1013', '9-7-1018', '9-7-1023', '9-7-1029', '9-7-1034', '9-7-1039', '9-7-1044', '9-7-1049', '9-7-1054', '9-7-1059', '9-7-1064', '9-7-1069', '9-7-1075', '9-7-1081', '9-7-1087', '9-7-1096', '9-7-1102', '9-7-1108', '9-7-1114', '9-7-1120', '9-7-1126', '9-7-1132', '9-7-1138', '9-7-1144', '9-7-1150', '9-7-1156', '9-7-1162', '9-7-1169', '9-7-1176', '9-7-1183', '9-7-1190', '9-7-1197', '9-7-1204', '9-7-1211', '9-7-1218', '9-7-1225', '9-7-1233', '9-7-1242', '9-7-1251', '9-7-1260', '9-7-1270', '9-7-1280', '9-7-1285', '9-7-1293', '9-7-1301', '9-7-1309', '9-7-1317', '9-7-1326', '9-7-1335', '9-7-1344', '9-7-1352', '9-7-1360', '9-7-1368', '9-7-1376', '9-7-1384', '9-7-1396', '9-7-1403', '9-7-1411', '9-7-1420', '9-7-1426', '9-7-1432', '9-7-1441', '9-7-1449', '9-7-1457', '9-7-1465', '9-7-1474', '9-7-1484', '9-7-1496', '9-7-1505', '9-7-1511', '9-7-1524', '9-7-1533', '9-7-1543', '9-7-1553']\n"
     ]
    }
   ],
   "source": [
    "print(totalbbox)\n",
    "print(allClasses)\n",
    "print(irrcount)\n",
    "print(ijkPedCross)\n",
    "print(ijkPark)\n",
    "print(ijkStop)\n",
    "print(ijkRight)\n",
    "print(ijkU)"
   ]
  },
  {
   "cell_type": "code",
   "execution_count": 93,
   "metadata": {},
   "outputs": [
    {
     "name": "stdout",
     "output_type": "stream",
     "text": [
      "{0, 1, 2, 3, 4, 5, 6, 7, 8, 11, 13, 15}\n",
      "12\n"
     ]
    }
   ],
   "source": [
    "ids=readFile.id\n",
    "idSet=set(ids)\n",
    "print(idSet)\n",
    "print(len(idSet))"
   ]
  },
  {
   "cell_type": "code",
   "execution_count": null,
   "metadata": {},
   "outputs": [],
   "source": []
  }
 ],
 "metadata": {
  "kernelspec": {
   "display_name": "Python 3",
   "language": "python",
   "name": "python3"
  },
  "language_info": {
   "codemirror_mode": {
    "name": "ipython",
    "version": 3
   },
   "file_extension": ".py",
   "mimetype": "text/x-python",
   "name": "python",
   "nbconvert_exporter": "python",
   "pygments_lexer": "ipython3",
   "version": "3.6.4"
  }
 },
 "nbformat": 4,
 "nbformat_minor": 2
}
